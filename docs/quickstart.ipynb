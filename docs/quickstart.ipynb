{
 "cells": [
  {
   "cell_type": "code",
   "execution_count": 1,
   "metadata": {
    "nbsphinx": "hidden"
   },
   "outputs": [],
   "source": [
    "# Hidden cell for nbsphinx (check metadata)\n",
    "\n",
    "# {\n",
    "#   \"nbsphinx\": \"hidden\",\n",
    "#   \"trusted\": false\n",
    "# }\n",
    "\n",
    "import warnings\n",
    "\n",
    "warnings.simplefilter('ignore')"
   ]
  },
  {
   "cell_type": "markdown",
   "metadata": {},
   "source": [
    "# Quickstart for Carsus\n",
    "\n",
    "In this guide you will learn how to make a Carsus atomic file suitable for TARDIS."
   ]
  },
  {
   "cell_type": "markdown",
   "metadata": {},
   "source": [
    "## Get familiar with Carsus notation\n",
    "\n",
    "The first thing you should learn about Carsus is its notation: \n",
    "\n",
    "\n",
    "- **Carsus uses `0` for neutral elements.** \n",
    "\n",
    "  e. g., `Si 0`  is equivalent to $\\text{Si I}$, `Si 1` to $\\text{Si II}$, etc.\n",
    "\n",
    "\n",
    "- **Use a dash to grab intervals of consectutive elements or species.**\n",
    "\n",
    "  e. g., `H-He` selects  $\\text{H I}$ and $\\text{H II}$ plus $\\text{He I}$,  $\\text{He II}$ and  $\\text{He III}$, while `C 0-2` selects  $\\text{C I}$,  $\\text{C II}$ and $\\text{C III}$. \n",
    "\n",
    "\n",
    "- **Use a comma to grab non-consecutive species.**\n",
    "\n",
    "  e. g., `Si 0, 2` selects $\\text{Si I}$ and $\\text{Si III}$.\n",
    "  \n",
    "  \n",
    "- **Use a semicolon to grab non-consecutive elements.**\n",
    "\n",
    "  e. g., `H; Li` selects  $\\text{H I}$ and $\\text{H II}$ plus $\\text{Li I}$,  $\\text{Li II}$, $\\text{Li III}$ and $\\text{Li IV}$.\n",
    "  \n",
    "  \n",
    "- **Finally, mix all the above syntax as needed.**\n",
    "\n",
    "  e. g. `H; C-Si; Fe 1,3`."
   ]
  },
  {
   "cell_type": "markdown",
   "metadata": {},
   "source": [
    "## Initialization and imports"
   ]
  },
  {
   "cell_type": "code",
   "execution_count": 2,
   "metadata": {},
   "outputs": [
    {
     "name": "stdout",
     "output_type": "stream",
     "text": [
      " ChiantiPy version 0.8.4 \n",
      " found PyQt5 widgets\n",
      " using PyQt5 widgets\n"
     ]
    }
   ],
   "source": [
    "from carsus.io.nist import NISTWeightsComp, NISTIonizationEnergies\n",
    "from carsus.io.kurucz import GFALLReader\n",
    "from carsus.io.zeta import KnoxLongZeta\n",
    "from carsus.io.chianti_ import ChiantiReader\n",
    "from carsus.io.output import TARDISAtomData"
   ]
  },
  {
   "cell_type": "markdown",
   "metadata": {},
   "source": [
    "## Atomic weights and ionization energies\n",
    "\n",
    "Get atomic weights and ionization energies from NIST."
   ]
  },
  {
   "cell_type": "code",
   "execution_count": 3,
   "metadata": {},
   "outputs": [
    {
     "name": "stdout",
     "output_type": "stream",
     "text": [
      "Downloading data from the NIST Atomic Weights and Isotopic Compositions database.\n"
     ]
    }
   ],
   "source": [
    "atomic_weights = NISTWeightsComp()"
   ]
  },
  {
   "cell_type": "code",
   "execution_count": 4,
   "metadata": {},
   "outputs": [
    {
     "name": "stdout",
     "output_type": "stream",
     "text": [
      "Downloading ionization energies from the NIST Atomic Spectra Database.\n"
     ]
    }
   ],
   "source": [
    "ionization_energies = NISTIonizationEnergies('H-Zn')"
   ]
  },
  {
   "cell_type": "markdown",
   "metadata": {},
   "source": [
    "## Levels and lines\n",
    "\n",
    "Currently, Carsus supports two sources of energy levels and transition lines: the Robert Kurucz's line list (GFALL) and the Chianti Database.\n",
    "\n",
    "### GFALL\n",
    "\n",
    "Creating a `GFALLReader` instance is **required**."
   ]
  },
  {
   "cell_type": "code",
   "execution_count": 5,
   "metadata": {},
   "outputs": [
    {
     "name": "stdout",
     "output_type": "stream",
     "text": [
      "[\u001b[1mcarsus.io.kurucz.gfall\u001b[0m][\u001b[1;33mWARNING\u001b[0m]  A specific combination to identify unique levels from the gfall data has not been given. Defaulting to [\"energy\", \"j\"]. (\u001b[1mgfall.py\u001b[0m:77)\n"
     ]
    }
   ],
   "source": [
    "gfall_reader = GFALLReader('H-Zn')"
   ]
  },
  {
   "cell_type": "markdown",
   "metadata": {},
   "source": [
    "### CHIANTI\n",
    "\n",
    "Creating a `ChiantiReader` instance is **optional**. "
   ]
  },
  {
   "cell_type": "code",
   "execution_count": 6,
   "metadata": {},
   "outputs": [],
   "source": [
    "chianti_reader = ChiantiReader('H-He', priority=20)"
   ]
  },
  {
   "cell_type": "markdown",
   "metadata": {},
   "source": [
    "By default `priority` parameter is set to `10`. Increase this value if you want to keep Chianti levels and lines over GFALL."
   ]
  },
  {
   "cell_type": "markdown",
   "metadata": {},
   "source": [
    "## Zeta data\n",
    "\n",
    "Adding Knox Long's ground state recombinations fractions ($\\zeta$) is straightforward."
   ]
  },
  {
   "cell_type": "code",
   "execution_count": 7,
   "metadata": {},
   "outputs": [],
   "source": [
    "zeta_data = KnoxLongZeta()"
   ]
  },
  {
   "cell_type": "markdown",
   "metadata": {},
   "source": [
    "## Create the output file"
   ]
  },
  {
   "cell_type": "code",
   "execution_count": 8,
   "metadata": {
    "scrolled": true
   },
   "outputs": [
    {
     "name": "stdout",
     "output_type": "stream",
     "text": [
      "[\u001b[1mcarsus.io.kurucz.gfall\u001b[0m][\u001b[1;37mINFO\u001b[0m   ]  Parsing GFALL http://kurucz.harvard.edu/linelists/gfall/gfall.dat (\u001b[1mgfall.py\u001b[0m:132)\n",
      "[\u001b[1mcarsus.io.output.base\u001b[0m][\u001b[1;37mINFO\u001b[0m   ]  Ingesting lines from GFALL (\u001b[1mbase.py\u001b[0m:221)\n",
      "[\u001b[1mcarsus.io.kurucz.gfall\u001b[0m][\u001b[1;37mINFO\u001b[0m   ]  Extracting line data: atomic_number, ion_charge, energy_lower, j_lower, energy_upper, j_upper, wavelength, loggf (\u001b[1mgfall.py\u001b[0m:324)\n",
      "[\u001b[1mcarsus.io.output.base\u001b[0m][\u001b[1;37mINFO\u001b[0m   ]  Ingesting lines from Chianti (\u001b[1mbase.py\u001b[0m:268)\n"
     ]
    }
   ],
   "source": [
    "atom_data = TARDISAtomData(atomic_weights,\n",
    "                           ionization_energies,\n",
    "                           gfall_reader,\n",
    "                           zeta_data,\n",
    "                           chianti_reader)"
   ]
  },
  {
   "cell_type": "markdown",
   "metadata": {},
   "source": [
    "Finally, dump the `atom_data` attributes to an HDF5 file."
   ]
  },
  {
   "cell_type": "code",
   "execution_count": 9,
   "metadata": {},
   "outputs": [
    {
     "name": "stdout",
     "output_type": "stream",
     "text": [
      "Signing AtomData: \n",
      "MD5: bcd08d97da58332a096ca782fd474e04\n",
      "UUID1: cf41a34ab4d311eabd1cc83dd46c2c53\n"
     ]
    }
   ],
   "source": [
    "atom_data.to_hdf('kurucz_cd23_chianti_H-He.h5')"
   ]
  }
 ],
 "metadata": {
  "kernelspec": {
   "display_name": "Python 3",
   "language": "python",
   "name": "python3"
  },
  "language_info": {
   "codemirror_mode": {
    "name": "ipython",
    "version": 3
   },
   "file_extension": ".py",
   "mimetype": "text/x-python",
   "name": "python",
   "nbconvert_exporter": "python",
   "pygments_lexer": "ipython3",
   "version": "3.6.7"
  },
  "widgets": {
   "application/vnd.jupyter.widget-state+json": {
    "state": {},
    "version_major": 2,
    "version_minor": 0
   }
  }
 },
 "nbformat": 4,
 "nbformat_minor": 2
}
