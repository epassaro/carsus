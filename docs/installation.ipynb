{
 "cells": [
  {
   "cell_type": "markdown",
   "metadata": {},
   "source": [
    "# Installation\n",
    "\n",
    "## Prerequisites\n",
    "\n",
    "- Requires a valid Anaconda [or Miniconda](https://docs.conda.io/projects/conda/en/latest/user-guide/install/download.html) installation.\n",
    "\n",
    "- Download and extract the [Chianti atomic database](https://www.chiantidatabase.org/chianti_download.html) and set the following environment variable in your shell configuration file:\n",
    "\n",
    "```\n",
    "export XUVTOP=/path/to/chianti/root\n",
    "```\n",
    "\n",
    "## Get the repository\n",
    "\n",
    "```\n",
    "$ git clone https://github.com/tardis-sn/carsus.git\n",
    "```\n",
    "\n",
    "## Install dependencies\n",
    "\n",
    "```\n",
    "$ cd carsus\n",
    "$ conda env create -f carsus_env3.yml\n",
    "```\n",
    "\n",
    "## Activate the environment\n",
    "``` \n",
    "$ conda activate carsus\n",
    "```\n",
    "\n",
    "## Install Carsus package\n",
    "```\n",
    "$ python setup.py install\n",
    "```\n",
    "\n",
    "## Run tests\n",
    "```\n",
    "$ python setup.py test\n",
    "\n",
    "```"
   ]
  }
 ],
 "metadata": {
  "kernelspec": {
   "display_name": "Python 3",
   "language": "python",
   "name": "python3"
  },
  "language_info": {
   "codemirror_mode": {
    "name": "ipython",
    "version": 3
   },
   "file_extension": ".py",
   "mimetype": "text/x-python",
   "name": "python",
   "nbconvert_exporter": "python",
   "pygments_lexer": "ipython3",
   "version": "3.6.10"
  }
 },
 "nbformat": 4,
 "nbformat_minor": 4
}
