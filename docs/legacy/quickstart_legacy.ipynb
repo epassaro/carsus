{
 "cells": [
  {
   "cell_type": "code",
   "execution_count": 1,
   "metadata": {
    "nbsphinx": "hidden"
   },
   "outputs": [],
   "source": [
    "# Hidden cell for nbsphinx (check cell metadata)\n",
    "import warnings\n",
    "warnings.simplefilter('ignore')"
   ]
  },
  {
   "cell_type": "markdown",
   "metadata": {},
   "source": [
    "# Create TARDIS atomic files\n",
    "\n",
    "This notebook provides a quick introduction in how to use Carsus with the SQL interface."
   ]
  },
  {
   "cell_type": "markdown",
   "metadata": {},
   "source": [
    "## Creating a database\n",
    "\n",
    "To start working with a database you need to initialize it. \n",
    "\n",
    "This requires an `url`, for example `sqlite:///path/to/example.db`. In this quickstart, we'll use a in-memory `sqlite` database, so we leave the `url` empty:"
   ]
  },
  {
   "cell_type": "code",
   "execution_count": 2,
   "metadata": {},
   "outputs": [
    {
     "name": "stdout",
     "output_type": "stream",
     "text": [
      "Initializing the database at sqlite://\n",
      "Ingesting basic atomic data\n"
     ]
    }
   ],
   "source": [
    "from carsus import init_db\n",
    "session = init_db()"
   ]
  },
  {
   "cell_type": "markdown",
   "metadata": {},
   "source": [
    "Now, we have a SQLAlchemy `Session` object named `session`. We can use `session` to make simple queries. As you can see from the output, some \"basic atomic data\" has been ingested into our database. Let's examine it:"
   ]
  },
  {
   "cell_type": "code",
   "execution_count": 3,
   "metadata": {},
   "outputs": [
    {
     "name": "stdout",
     "output_type": "stream",
     "text": [
      "Number of Atoms in the database: 118\n",
      "Symbol: Si, atomic_number: 14, name: Silicon\n"
     ]
    }
   ],
   "source": [
    "from carsus.model import Atom\n",
    "\n",
    "print('Number of Atoms in the database: {}'.format(session.query(Atom).count()))\n",
    "si = session.query(Atom).get(14) \n",
    "print(\"Symbol: {}, atomic_number: {}, name: {}\".format(si.symbol, si.atomic_number, si.name))"
   ]
  },
  {
   "cell_type": "markdown",
   "metadata": {},
   "source": [
    "So, our database already contains basic information about atoms. But this informaition has not been commited to the database yet. It is always **your** responsibility to commit data!"
   ]
  },
  {
   "cell_type": "code",
   "execution_count": 4,
   "metadata": {},
   "outputs": [],
   "source": [
    "session.commit()"
   ]
  },
  {
   "cell_type": "markdown",
   "metadata": {},
   "source": [
    "To store more interesting data we are going to use ingesters. For each data source supported by Carsus there is a corresponding ingester class. For example, let's ingest atomic weights from the NIST Atomic Weights and Isotopic Compositions database:"
   ]
  },
  {
   "cell_type": "code",
   "execution_count": 5,
   "metadata": {},
   "outputs": [
    {
     "name": "stdout",
     "output_type": "stream",
     "text": [
      "Downloading data from the NIST Atomic Weights and Isotopic Compositions database.\n",
      "Ingesting atomic weights from nist\n"
     ]
    }
   ],
   "source": [
    "from carsus.io.nist import NISTWeightsCompIngester\n",
    "\n",
    "weightscomp_ingester = NISTWeightsCompIngester(session)\n",
    "weightscomp_ingester.ingest()\n",
    "session.commit()"
   ]
  },
  {
   "cell_type": "markdown",
   "metadata": {},
   "source": [
    "And now atoms have atomic weights:"
   ]
  },
  {
   "cell_type": "code",
   "execution_count": 6,
   "metadata": {},
   "outputs": [
    {
     "name": "stdout",
     "output_type": "stream",
     "text": [
      "[<Quantity: 28.085 u>]\n"
     ]
    }
   ],
   "source": [
    "print(si.weights)"
   ]
  },
  {
   "cell_type": "markdown",
   "metadata": {},
   "source": [
    "Other ingesters are just the same, but they often take specific arguments:"
   ]
  },
  {
   "cell_type": "code",
   "execution_count": 7,
   "metadata": {},
   "outputs": [
    {
     "name": "stdout",
     "output_type": "stream",
     "text": [
      "Downloading ionization energies from the NIST Atomic Spectra Database.\n",
      "Ingesting ionization energies from nist-asd\n",
      "Ingesting ground levels from nist-asd\n"
     ]
    }
   ],
   "source": [
    "from carsus.io.nist import NISTIonizationEnergiesIngester\n",
    "\n",
    "# Ingest ionization energies and ground levels from the NIST Atomic Spectra Database\n",
    "ioniz_energies_ingester = NISTIonizationEnergiesIngester(session, spectra=\"H-Si\")\n",
    "ioniz_energies_ingester.ingest(ionization_energies=True, ground_levels=True)\n",
    "session.commit()"
   ]
  },
  {
   "cell_type": "markdown",
   "metadata": {},
   "source": [
    "**IMPORTANT:** it's necessary ingest NIST ionization energies before using `GFALLIngester`"
   ]
  },
  {
   "cell_type": "code",
   "execution_count": 8,
   "metadata": {},
   "outputs": [],
   "source": [
    "!wget -q http://kurucz.harvard.edu/linelists/gfall/gfall.dat"
   ]
  },
  {
   "cell_type": "code",
   "execution_count": 9,
   "metadata": {},
   "outputs": [
    {
     "name": "stdout",
     "output_type": "stream",
     "text": [
      "[\u001b[1mcarsus.io.kurucz.gfall\u001b[0m][\u001b[1;33mWARNING\u001b[0m]  A specific combination to identify unique levels from the gfall data has not been given. Defaulting to [\"energy\", \"j\"]. (\u001b[1mgfall.py\u001b[0m:68)\n",
      "[\u001b[1mcarsus.io.kurucz.gfall\u001b[0m][\u001b[1;37mINFO\u001b[0m   ]  Parsing GFALL ./gfall.dat (\u001b[1mgfall.py\u001b[0m:116)\n",
      "Ingesting levels from ku_latest\n",
      "Ingesting levels for He 0\n",
      "Ingesting levels for He 1\n",
      "Ingesting levels for Li 0\n",
      "Ingesting levels for Li 1\n",
      "Ingesting levels for Be 0\n",
      "Ingesting levels for Be 1\n",
      "Ingesting levels for Be 2\n",
      "Ingesting levels for B 0\n",
      "Ingesting levels for B 1\n",
      "Ingesting levels for B 2\n",
      "Ingesting levels for B 3\n",
      "Ingesting levels for C 0\n",
      "Ingesting levels for C 1\n",
      "Ingesting levels for C 2\n",
      "Ingesting levels for C 3\n",
      "Ingesting levels for N 0\n",
      "Ingesting levels for N 1\n",
      "Ingesting levels for N 2\n",
      "Ingesting levels for N 3\n",
      "Ingesting levels for N 4\n",
      "Ingesting levels for N 5\n",
      "Ingesting levels for O 0\n",
      "Ingesting levels for O 1\n",
      "Ingesting levels for O 2\n",
      "Ingesting levels for O 3\n",
      "Ingesting levels for O 4\n",
      "Ingesting levels for O 5\n",
      "Ingesting levels for F 0\n",
      "Ingesting levels for F 1\n",
      "Ingesting levels for F 2\n",
      "Ingesting levels for F 3\n",
      "Ingesting levels for F 4\n",
      "Ingesting levels for F 5\n",
      "Ingesting levels for Ne 0\n",
      "Ingesting levels for Ne 1\n",
      "Ingesting levels for Ne 2\n",
      "Ingesting levels for Ne 3\n",
      "Ingesting levels for Ne 4\n",
      "Ingesting levels for Ne 5\n",
      "Ingesting levels for Na 0\n",
      "Ingesting levels for Na 1\n",
      "Ingesting levels for Na 2\n",
      "Ingesting levels for Na 3\n",
      "Ingesting levels for Na 4\n",
      "Ingesting levels for Na 5\n",
      "Ingesting levels for Mg 0\n",
      "Ingesting levels for Mg 1\n",
      "Ingesting levels for Mg 2\n",
      "Ingesting levels for Mg 3\n",
      "Ingesting levels for Mg 4\n",
      "Ingesting levels for Mg 5\n",
      "Ingesting levels for Al 0\n",
      "Ingesting levels for Al 1\n",
      "Ingesting levels for Al 2\n",
      "Ingesting levels for Al 3\n",
      "Ingesting levels for Al 4\n",
      "Ingesting levels for Al 5\n",
      "Ingesting levels for Si 0\n",
      "Ingesting levels for Si 1\n",
      "Ingesting levels for Si 2\n",
      "Ingesting levels for Si 3\n",
      "Ingesting levels for Si 4\n",
      "Ingesting levels for Si 5\n"
     ]
    }
   ],
   "source": [
    "from carsus.io.kurucz import GFALLIngester\n",
    "\n",
    "# Ingest levels and lines from the Kurucz line list\n",
    "gfall_ingester = GFALLIngester(session, fname=\"./gfall.dat\", ions=\"H-Si\")\n",
    "gfall_ingester.ingest(levels=True, lines=False)\n",
    "session.commit()"
   ]
  },
  {
   "cell_type": "code",
   "execution_count": 10,
   "metadata": {},
   "outputs": [
    {
     "name": "stdout",
     "output_type": "stream",
     "text": [
      " ChiantiPy version 0.8.4 \n",
      " found PyQt5 widgets\n",
      " using PyQt5 widgets\n",
      "Ingesting levels from chianti_v9.0.1\n",
      "Ingesting levels for Si 1\n",
      "Ingesting levels for Si 2\n",
      "Ingesting lines from chianti_v9.0.1\n",
      "Ingesting lines for Si 1\n",
      "Ingesting lines for Si 2\n",
      "Ingesting collisions from chianti_v9.0.1\n",
      "Ingesting collisions for Si 1\n",
      "Ingesting collisions for Si 2\n"
     ]
    }
   ],
   "source": [
    "from carsus.io.chianti_ import ChiantiIngester\n",
    "\n",
    "# Ingest levels and lines from Chianti database\n",
    "chianti_ingester = ChiantiIngester(session, ions=\"Si 1-2\")\n",
    "chianti_ingester.ingest(levels=True, lines=True, collisions=True)\n",
    "session.commit()"
   ]
  },
  {
   "cell_type": "code",
   "execution_count": 11,
   "metadata": {},
   "outputs": [],
   "source": [
    "import os\n",
    "import carsus\n",
    "from carsus.io.zeta import KnoxLongZetaIngester\n",
    "\n",
    "CARSUS_PATH = os.path.dirname(carsus.__file__)\n",
    "\n",
    "# Ingest Knox Long's recombination coefficients\n",
    "zeta_ingester = KnoxLongZetaIngester(session, os.path.join(CARSUS_PATH, 'data/knox_long_recombination_zeta.dat'))\n",
    "zeta_ingester.ingest()\n",
    "session.commit()"
   ]
  },
  {
   "cell_type": "markdown",
   "metadata": {},
   "source": [
    "Now we have ionization energies, levels and lines for ions of Si (Note: Si 1 = Si II, Si 2 = Si III, etc.). You should **always** use arabic numerals when specifying ions:"
   ]
  },
  {
   "cell_type": "code",
   "execution_count": 12,
   "metadata": {},
   "outputs": [
    {
     "name": "stdout",
     "output_type": "stream",
     "text": [
      "190\n"
     ]
    }
   ],
   "source": [
    "from carsus.model import Ion\n",
    "\n",
    "si_1 = session.query(Ion).get((14,1))\n",
    "print(len(si_1.levels))"
   ]
  },
  {
   "cell_type": "markdown",
   "metadata": {},
   "source": [
    "This is it! Now you can explore the your database or create output HDF5 files."
   ]
  },
  {
   "cell_type": "markdown",
   "metadata": {},
   "source": [
    "## Creating output HDF5 files\n",
    "\n",
    "Once you have a database it is very easy to create atomic data files for TARDIS. \n",
    "To do this, you need to use a special class called `AtomData`. The class takes `session` as its first argument; other important parameters are `selected_atoms` and `chianti_ions`. Only data for `selected_atoms` will be stored in the output DataFrames and levels and lines for `chianti_ions` will be taken from the data source with the same name. Let's create an `AtomData` instance: "
   ]
  },
  {
   "cell_type": "code",
   "execution_count": 13,
   "metadata": {},
   "outputs": [],
   "source": [
    "from carsus.io.output import AtomData\n",
    "atom_data = AtomData(session, \n",
    "                     selected_atoms=\"Si\", \n",
    "                     chianti_short_name='chianti_v9.0.1', \n",
    "                     chianti_ions=\"Si 1-2\")"
   ]
  },
  {
   "cell_type": "markdown",
   "metadata": {},
   "source": [
    "**IMPORTANT:** if `chianti_short_name` doesn't match with your current version of Chianti DB the above command will fail.  \n",
    "\n",
    "The output DataFrames can be easily accessed as \"prepared\" attributes of `atom_data`:"
   ]
  },
  {
   "cell_type": "code",
   "execution_count": 14,
   "metadata": {},
   "outputs": [
    {
     "name": "stdout",
     "output_type": "stream",
     "text": [
      "              symbol        name    mass\n",
      "atomic_number                           \n",
      "14             b'Si'  b'Silicon'  28.085\n"
     ]
    }
   ],
   "source": [
    "print(atom_data.atom_masses_prepared)"
   ]
  },
  {
   "cell_type": "code",
   "execution_count": 15,
   "metadata": {},
   "outputs": [
    {
     "name": "stdout",
     "output_type": "stream",
     "text": [
      "                                         energy  g  metastable\n",
      "atomic_number ion_number level_number                         \n",
      "14            0          0             0.000000  1        True\n",
      "                         1             0.009561  3        True\n",
      "                         2             0.027668  5        True\n",
      "                         3             0.780958  5        True\n",
      "                         4             1.908659  1        True\n",
      "                         5             4.131904  5        True\n",
      "                         6             4.920085  1        True\n",
      "                         7             4.929647  3        True\n",
      "                         8             4.953795  5        True\n",
      "                         9             5.082346  3        True\n",
      "                         10            5.613532  3        True\n",
      "                         11            5.615693  5        True\n",
      "                         12            5.615694  5        True\n",
      "                         13            5.615694  5        True\n",
      "                         14            5.619193  7        True\n",
      "                         15            5.862476  3        True\n",
      "                         16            5.870844  5        True\n",
      "                         17            5.953730  3        True\n",
      "                         18            5.963928  5        True\n",
      "                         19            5.984010  7        True\n"
     ]
    }
   ],
   "source": [
    "print(atom_data.levels_prepared.head(20))"
   ]
  },
  {
   "cell_type": "code",
   "execution_count": 16,
   "metadata": {},
   "outputs": [
    {
     "name": "stdout",
     "output_type": "stream",
     "text": [
      "    atomic_number  ion_number  source_level_number  destination_level_number  \\\n",
      "0              14           1                    0                         5   \n",
      "1              14           1                    0                         7   \n",
      "2              14           1                    0                         8   \n",
      "3              14           1                    0                         9   \n",
      "4              14           1                    0                        13   \n",
      "5              14           1                    0                        14   \n",
      "6              14           1                    0                        15   \n",
      "7              14           1                    0                        16   \n",
      "8              14           1                    0                        24   \n",
      "9              14           1                    0                        25   \n",
      "10             14           1                    1                         7   \n",
      "11             14           1                    1                         8   \n",
      "12             14           1                    1                         9   \n",
      "13             14           1                    1                        13   \n",
      "14             14           1                    1                        14   \n",
      "15             14           1                    1                        15   \n",
      "16             14           1                    1                        16   \n",
      "17             14           1                    1                        24   \n",
      "18             14           1                    1                        25   \n",
      "19             14           1                    1                         6   \n",
      "\n",
      "    transition_type  transition_probability  transition_line_id  \n",
      "0                 1            0.000000e+00                   4  \n",
      "1                 1            0.000000e+00                   5  \n",
      "2                 1            0.000000e+00                   6  \n",
      "3                 1            0.000000e+00                   7  \n",
      "4                 1            0.000000e+00                   8  \n",
      "5                 1            0.000000e+00                   9  \n",
      "6                 1            0.000000e+00                  10  \n",
      "7                 1            0.000000e+00                  11  \n",
      "8                 1            0.000000e+00                  12  \n",
      "9                 1            0.000000e+00                  13  \n",
      "10                1            3.573898e+08                  19  \n",
      "11                1            1.898953e+08                  20  \n",
      "12                1            2.517380e+08                  21  \n",
      "13                1            3.241519e+08                  23  \n",
      "14                1            1.582578e+09                  24  \n",
      "15                1            2.789657e+07                  25  \n",
      "16                1            3.114504e+07                  26  \n",
      "17                1            8.794534e+06                  28  \n",
      "18                1            6.684619e+06                  29  \n",
      "19                1            6.417095e+06                  18  \n"
     ]
    }
   ],
   "source": [
    "print(atom_data.macro_atom_prepared.head(20))"
   ]
  },
  {
   "cell_type": "markdown",
   "metadata": {},
   "source": [
    "To create an HDF5 file you need to use the `to_hdf()` method. You should specify every DataFrame that you want to store:"
   ]
  },
  {
   "cell_type": "code",
   "execution_count": 17,
   "metadata": {},
   "outputs": [
    {
     "name": "stdout",
     "output_type": "stream",
     "text": [
      "Signing AtomData: \n",
      "MD5: 0bec3e488809cf5125ece35a49bdb739\n",
      "UUID1: f0101a2a823811ea9991c83dd46c2c53\n"
     ]
    }
   ],
   "source": [
    "atom_data.to_hdf(\"example_store.h5\", \n",
    "                 store_atom_masses=True, \n",
    "                 store_ionization_energies=True, \n",
    "                 store_levels=True, \n",
    "                 store_lines=True,\n",
    "                 store_collisions=True,\n",
    "                 store_macro_atom=True,\n",
    "                 store_zeta_data=True)"
   ]
  },
  {
   "cell_type": "markdown",
   "metadata": {},
   "source": [
    "You are done! Now you can use the created HDF5 atomic file to run TARDIS simulations."
   ]
  }
 ],
 "metadata": {
  "kernelspec": {
   "display_name": "Python 3",
   "language": "python",
   "name": "python3"
  },
  "language_info": {
   "codemirror_mode": {
    "name": "ipython",
    "version": 3
   },
   "file_extension": ".py",
   "mimetype": "text/x-python",
   "name": "python",
   "nbconvert_exporter": "python",
   "pygments_lexer": "ipython3",
   "version": "3.6.10"
  }
 },
 "nbformat": 4,
 "nbformat_minor": 1
}
