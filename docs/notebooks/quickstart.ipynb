{
 "cells": [
  {
   "cell_type": "code",
   "execution_count": 1,
   "metadata": {
    "nbsphinx": "hidden"
   },
   "outputs": [],
   "source": [
    "# Hidden cell for nbsphinx (check cell metadata)\n",
    "import warnings\n",
    "warnings.simplefilter('ignore')"
   ]
  },
  {
   "cell_type": "markdown",
   "metadata": {},
   "source": [
    "# Quickstart\n",
    "\n",
    "This notebook provides a quick introduction in how to use Carsus.\n",
    "\n",
    "## Prerequisites\n",
    "- Install Carsus (preferably as a `git` repository)\n",
    "- Install ChiantiPy (from source or `pip`, both versions work) and set the environment variable `XUVTOP = /path/to/chianti/root`\n",
    "- We highly recommend installing the `carsus-db` repository as it includes the files of several sources that cannot easily be downloaded"
   ]
  },
  {
   "cell_type": "markdown",
   "metadata": {},
   "source": [
    "## Creating a database\n",
    "\n",
    "To start working with a database you need to initialize it. This requires an `url`, for example `sqlite:///path/to/example.db`. In this quickstart, we'll use a in-memory `sqlite` database, so we leave the `url` empty:"
   ]
  },
  {
   "cell_type": "code",
   "execution_count": 2,
   "metadata": {},
   "outputs": [
    {
     "name": "stdout",
     "output_type": "stream",
     "text": [
      "Initializing the database at sqlite://\n",
      "Ingesting basic atomic data\n"
     ]
    }
   ],
   "source": [
    "from carsus import init_db\n",
    "session = init_db()"
   ]
  },
  {
   "cell_type": "markdown",
   "metadata": {},
   "source": [
    "Now, we have a SQLAlchemy `Session` object named `session`. We can use `session` to make simple queries. As you can see from the output, some \"basic atomic data\" has been ingested into our database. Let's examine it:"
   ]
  },
  {
   "cell_type": "code",
   "execution_count": 3,
   "metadata": {},
   "outputs": [
    {
     "name": "stdout",
     "output_type": "stream",
     "text": [
      "Number of Atoms in the database: 118\n",
      "Symbol: Si, atomic_number: 14, name: Silicon\n"
     ]
    }
   ],
   "source": [
    "from carsus.model import Atom\n",
    "\n",
    "print('Number of Atoms in the database: {}'.format(session.query(Atom).count()))\n",
    "si = session.query(Atom).get(14) \n",
    "print(\"Symbol: {}, atomic_number: {}, name: {}\".format(si.symbol, si.atomic_number, si.name))"
   ]
  },
  {
   "cell_type": "markdown",
   "metadata": {},
   "source": [
    "So, our database already contains basic information about atoms. But this informaition has not been commited to the database yet. It is always **your** responsibility to commit data!"
   ]
  },
  {
   "cell_type": "code",
   "execution_count": 4,
   "metadata": {},
   "outputs": [],
   "source": [
    "session.commit()"
   ]
  },
  {
   "cell_type": "markdown",
   "metadata": {},
   "source": [
    "To store more interesting data we are going to use ingesters. For each data source supported by Carsus there is a corresponding ingester class. For example, let's ingest atomic weights from the NIST Atomic Weights and Isotopic Compositions database:"
   ]
  },
  {
   "cell_type": "code",
   "execution_count": 5,
   "metadata": {},
   "outputs": [
    {
     "name": "stdout",
     "output_type": "stream",
     "text": [
      "Downloading data from the NIST Atomic Weights and Isotopic Compositions database.\n",
      "Ingesting atomic weights from nist\n"
     ]
    }
   ],
   "source": [
    "from carsus.io.nist import NISTWeightsCompIngester\n",
    "\n",
    "weightscomp_ingester = NISTWeightsCompIngester(session)\n",
    "weightscomp_ingester.ingest()\n",
    "session.commit()"
   ]
  },
  {
   "cell_type": "markdown",
   "metadata": {},
   "source": [
    "And now atoms have atomic weights:"
   ]
  },
  {
   "cell_type": "code",
   "execution_count": 6,
   "metadata": {},
   "outputs": [
    {
     "name": "stdout",
     "output_type": "stream",
     "text": [
      "[<Quantity: 28.085 u>]\n"
     ]
    }
   ],
   "source": [
    "print(si.weights)"
   ]
  },
  {
   "cell_type": "markdown",
   "metadata": {},
   "source": [
    "Other ingesters are just the same, but they often take specific arguments:"
   ]
  },
  {
   "cell_type": "code",
   "execution_count": 7,
   "metadata": {},
   "outputs": [
    {
     "name": "stdout",
     "output_type": "stream",
     "text": [
      "Downloading ionization energies from the NIST Atomic Spectra Database\n",
      "Ingesting ionization energies from nist-asd\n",
      "Ingesting ground levels from nist-asd\n"
     ]
    }
   ],
   "source": [
    "from carsus.io.nist import NISTIonizationEnergiesIngester\n",
    "\n",
    "# Ingest ionization energies and ground levels from the NIST Atomic Spectra Database\n",
    "ioniz_energies_ingester = NISTIonizationEnergiesIngester(session, spectra=\"Si\")\n",
    "ioniz_energies_ingester.ingest(ionization_energies=True, ground_levels=True)\n",
    "session.commit()"
   ]
  },
  {
   "cell_type": "markdown",
   "metadata": {},
   "source": [
    "**IMPRTANT:** it's necessary ingest NIST ionization energies before using `GFALLIngester`"
   ]
  },
  {
   "cell_type": "code",
   "execution_count": 8,
   "metadata": {},
   "outputs": [
    {
     "name": "stdout",
     "output_type": "stream",
     "text": [
      "[\u001b[1mcarsus.io.kurucz.gfall\u001b[0m][\u001b[1;33mWARNING\u001b[0m]  A specific combination to identify unique levels from the gfall data has not been given. Defaulting to [\"energy\", \"j\"]. (\u001b[1mgfall.py\u001b[0m:68)\n",
      "[\u001b[1mcarsus.io.kurucz.gfall\u001b[0m][\u001b[1;37mINFO\u001b[0m   ]  Parsing GFALL ./gfall.dat (\u001b[1mgfall.py\u001b[0m:116)\n",
      "Ingesting levels from ku_latest\n",
      "Ingesting levels for Si 1\n",
      "Ingesting levels for Si 2\n"
     ]
    }
   ],
   "source": [
    "from carsus.io.kurucz import GFALLIngester\n",
    "\n",
    "# Ingest levels and lines from the Kurucz line list\n",
    "gfall_ingester = GFALLIngester(session, fname=\"./gfall.dat\", ions=\"Si 1-2\")\n",
    "gfall_ingester.ingest(levels=True, lines=False)\n",
    "session.commit()"
   ]
  },
  {
   "cell_type": "code",
   "execution_count": 9,
   "metadata": {},
   "outputs": [
    {
     "name": "stdout",
     "output_type": "stream",
     "text": [
      " ChiantiPy version 0.8.4 \n",
      " found PyQt5 widgets\n",
      " using PyQt5 widgets\n",
      "Ingesting levels from chianti_v9.0\n",
      "Ingesting levels for Si 1\n",
      "Ingesting levels for Si 2\n",
      "Ingesting lines from chianti_v9.0\n",
      "Ingesting lines for Si 1\n",
      "Ingesting lines for Si 2\n"
     ]
    }
   ],
   "source": [
    "from carsus.io.chianti_ import ChiantiIngester\n",
    "\n",
    "# Ingest levels and lines from Chianti database\n",
    "chianti_ingester = ChiantiIngester(session, ions=\"Si 1-2\")\n",
    "chianti_ingester.ingest(levels=True, lines=True)\n",
    "session.commit()"
   ]
  },
  {
   "cell_type": "code",
   "execution_count": 10,
   "metadata": {},
   "outputs": [],
   "source": [
    "from carsus.io.zeta import KnoxLongZetaIngester\n",
    "\n",
    "# Ingest Knox Long's zeta data\n",
    "zeta_ingester = KnoxLongZetaIngester(session, './carsus/data/knox_long_recombination_zeta.dat')\n",
    "zeta_ingester.ingest()\n",
    "session.commit()"
   ]
  },
  {
   "cell_type": "markdown",
   "metadata": {},
   "source": [
    "Now we have ionization energies, levels and lines for ions of Si (Note: Si 1 = Si II, Si 2 = Si III, etc.). You should **always** use arabic numerals when specifying ions:"
   ]
  },
  {
   "cell_type": "code",
   "execution_count": 11,
   "metadata": {},
   "outputs": [
    {
     "name": "stdout",
     "output_type": "stream",
     "text": [
      "190\n"
     ]
    }
   ],
   "source": [
    "from carsus.model import Ion\n",
    "\n",
    "si_1 = session.query(Ion).get((14,1))\n",
    "print(len(si_1.levels))"
   ]
  },
  {
   "cell_type": "markdown",
   "metadata": {},
   "source": [
    "This is it! Now you can explore the your database or create output HDF5 files."
   ]
  },
  {
   "cell_type": "markdown",
   "metadata": {},
   "source": [
    "## Creating output HDF5 files\n",
    "\n",
    "Once you have a database it is very easy to create atomic data files for TARDIS. \n",
    "To do this, you need to use a special class called `AtomData`. The class takes `session` as its first argument; other important parameters are `selected_atoms` and `chianti_ions`. Only data for `selected_atoms` will be stored in the output DataFrames and levels and lines for `chianti_ions` will be taken from the data source with the same name. Let's create an `AtomData` instance: "
   ]
  },
  {
   "cell_type": "code",
   "execution_count": 12,
   "metadata": {},
   "outputs": [],
   "source": [
    "from carsus.io.output import AtomData\n",
    "atom_data = AtomData(session, selected_atoms=\"Si\", chianti_short_name='chianti_v9.0', chianti_ions=\"Si 1-2\")"
   ]
  },
  {
   "cell_type": "markdown",
   "metadata": {},
   "source": [
    "The output DataFrames can be easily accessed as \"prepared\" attributes of `atom_data`:"
   ]
  },
  {
   "cell_type": "code",
   "execution_count": 13,
   "metadata": {},
   "outputs": [
    {
     "name": "stdout",
     "output_type": "stream",
     "text": [
      "              symbol        name    mass\n",
      "atomic_number                           \n",
      "14             b'Si'  b'Silicon'  28.085\n"
     ]
    }
   ],
   "source": [
    "print(atom_data.atom_masses_prepared)"
   ]
  },
  {
   "cell_type": "code",
   "execution_count": 14,
   "metadata": {},
   "outputs": [
    {
     "name": "stdout",
     "output_type": "stream",
     "text": [
      "                                          energy  g  metastable\n",
      "atomic_number ion_number level_number                          \n",
      "14            0          0              0.000000  1        True\n",
      "              1          0              0.000000  2        True\n",
      "                         1              0.035613  4        True\n",
      "                         2              5.309535  2        True\n",
      "                         3              5.322966  4        True\n",
      "                         4              5.344700  6        True\n",
      "                         5              6.857485  4       False\n",
      "                         6              6.859448  6       False\n",
      "                         7              8.121023  2       False\n",
      "                         8              9.505292  2       False\n",
      "                         9              9.836720  4       False\n",
      "                         10             9.838768  6       False\n",
      "                         11            10.066443  2       False\n",
      "                         12            10.073880  4       False\n",
      "                         13            10.390118  2       False\n",
      "                         14            10.415201  4       False\n",
      "                         15            12.146991  2       False\n",
      "                         16            12.525262  4       False\n",
      "                         17            12.525423  6       False\n",
      "                         18            12.839311  8       False\n"
     ]
    }
   ],
   "source": [
    "print(atom_data.levels_prepared.head(20))"
   ]
  },
  {
   "cell_type": "code",
   "execution_count": 15,
   "metadata": {},
   "outputs": [
    {
     "name": "stdout",
     "output_type": "stream",
     "text": [
      "    atomic_number  ion_number  source_level_number  destination_level_number  \\\n",
      "0              14           1                    0                         5   \n",
      "1              14           1                    0                         7   \n",
      "2              14           1                    0                         8   \n",
      "3              14           1                    0                         9   \n",
      "4              14           1                    0                        13   \n",
      "5              14           1                    0                        14   \n",
      "6              14           1                    0                        15   \n",
      "7              14           1                    0                        16   \n",
      "8              14           1                    0                        24   \n",
      "9              14           1                    0                        25   \n",
      "10             14           1                    1                         7   \n",
      "11             14           1                    1                         8   \n",
      "12             14           1                    1                         9   \n",
      "13             14           1                    1                        13   \n",
      "14             14           1                    1                        14   \n",
      "15             14           1                    1                        15   \n",
      "16             14           1                    1                        16   \n",
      "17             14           1                    1                        24   \n",
      "18             14           1                    1                        25   \n",
      "19             14           1                    1                         6   \n",
      "\n",
      "    transition_type  transition_probability  transition_line_id  \n",
      "0                 1            0.000000e+00                   4  \n",
      "1                 1            0.000000e+00                   5  \n",
      "2                 1            0.000000e+00                   6  \n",
      "3                 1            0.000000e+00                   7  \n",
      "4                 1            0.000000e+00                   8  \n",
      "5                 1            0.000000e+00                   9  \n",
      "6                 1            0.000000e+00                  10  \n",
      "7                 1            0.000000e+00                  11  \n",
      "8                 1            0.000000e+00                  12  \n",
      "9                 1            0.000000e+00                  13  \n",
      "10                1            3.573898e+08                  19  \n",
      "11                1            1.898953e+08                  20  \n",
      "12                1            2.517380e+08                  21  \n",
      "13                1            3.241519e+08                  23  \n",
      "14                1            1.582578e+09                  24  \n",
      "15                1            2.789657e+07                  25  \n",
      "16                1            3.114504e+07                  26  \n",
      "17                1            8.794534e+06                  28  \n",
      "18                1            6.684619e+06                  29  \n",
      "19                1            6.417095e+06                  18  \n"
     ]
    }
   ],
   "source": [
    "print(atom_data.macro_atom_prepared.head(20))"
   ]
  },
  {
   "cell_type": "markdown",
   "metadata": {},
   "source": [
    "To create an HDF5 file you need to use the `to_hdf()` method. You should specify every DataFrame that you want to store:"
   ]
  },
  {
   "cell_type": "code",
   "execution_count": 16,
   "metadata": {},
   "outputs": [
    {
     "name": "stdout",
     "output_type": "stream",
     "text": [
      "Signing AtomData: \n",
      "MD5: 444891792f77d8977cc1b632c5b0322f\n",
      "UUID1: 7e20522ca39011e98329c83dd46c2c53\n"
     ]
    }
   ],
   "source": [
    "atom_data.to_hdf(\"example_store.h5\", store_atom_masses=True, store_ionization_energies=True, \n",
    "                store_levels=True, store_lines=True, store_macro_atom=True, store_zeta_data=True)"
   ]
  },
  {
   "cell_type": "markdown",
   "metadata": {},
   "source": [
    "You are done! Now you can use the created HDF5 atomic file to run TARDIS simulations!"
   ]
  }
 ],
 "metadata": {
  "kernelspec": {
   "display_name": "Python 3",
   "language": "python",
   "name": "python3"
  },
  "language_info": {
   "codemirror_mode": {
    "name": "ipython",
    "version": 3
   },
   "file_extension": ".py",
   "mimetype": "text/x-python",
   "name": "python",
   "nbconvert_exporter": "python",
   "pygments_lexer": "ipython3",
   "version": "3.6.7"
  }
 },
 "nbformat": 4,
 "nbformat_minor": 1
}
