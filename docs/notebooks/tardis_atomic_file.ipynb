{
 "cells": [
  {
   "cell_type": "code",
   "execution_count": 1,
   "metadata": {
    "nbsphinx": "hidden"
   },
   "outputs": [],
   "source": [
    "# Hidden cell for nbsphinx (check metadata)\n",
    "import warnings\n",
    "\n",
    "warnings.simplefilter('ignore')"
   ]
  },
  {
   "cell_type": "markdown",
   "metadata": {},
   "source": [
    "# Creating a TARDIS atomic file\n",
    "\n",
    "## Initialization and imports"
   ]
  },
  {
   "cell_type": "code",
   "execution_count": 2,
   "metadata": {},
   "outputs": [],
   "source": [
    "from carsus.io.nist import NISTWeightsComp, NISTIonizationEnergies\n",
    "from carsus.io.kurucz import GFALLReader\n",
    "from carsus.io.zeta import KnoxLongZeta\n",
    "from carsus.io.output import TARDISAtomData"
   ]
  },
  {
   "cell_type": "code",
   "execution_count": 3,
   "metadata": {},
   "outputs": [],
   "source": [
    "# Choose an output filename\n",
    "output_file = 'kurucz_H-Zn.h5'"
   ]
  },
  {
   "cell_type": "markdown",
   "metadata": {},
   "source": [
    "## Atomic weights and ionization energies\n",
    "\n",
    "Get atomic weights and ionization energies from NIST. For example, to choose all elements from `H` to `Zn`:"
   ]
  },
  {
   "cell_type": "code",
   "execution_count": 4,
   "metadata": {},
   "outputs": [
    {
     "name": "stdout",
     "output_type": "stream",
     "text": [
      "Downloading data from the NIST Atomic Weights and Isotopic Compositions database.\n",
      "Downloading ionization energies from the NIST Atomic Spectra Database\n"
     ]
    }
   ],
   "source": [
    "atomic_weights = NISTWeightsComp('H-Zn')\n",
    "ionization_energies = NISTIonizationEnergies('H-Zn')"
   ]
  },
  {
   "cell_type": "markdown",
   "metadata": {},
   "source": [
    "Remember _Carsus_ allows you to pick ions in many ways!\n",
    "\n",
    "- **Grab only some species:**\n",
    "\n",
    "```python\n",
    "ionization_energies = NISTIonizationEnergies('C 2-3')\n",
    "```\n",
    "\n",
    "- **Non consecutive ions:**\n",
    "\n",
    "```python\n",
    "ionization_energies = NISTIonizationEnergies('C, O, Si')\n",
    "```\n",
    "\n",
    "- **A mix of all above:**\n",
    "\n",
    "```python\n",
    "ionization_energies = NISTIonizationEnergies('H, C 1-2, Ar-Zn')\n",
    "```"
   ]
  },
  {
   "cell_type": "markdown",
   "metadata": {},
   "source": [
    "Once you are done, save data to the HDF5 output."
   ]
  },
  {
   "cell_type": "code",
   "execution_count": 5,
   "metadata": {},
   "outputs": [],
   "source": [
    "atomic_weights.to_hdf(output_file)\n",
    "ionization_energies.to_hdf(output_file)"
   ]
  },
  {
   "cell_type": "markdown",
   "metadata": {},
   "source": [
    "## Knox Long's recombination zeta\n",
    "\n",
    "Parse and dump zeta data."
   ]
  },
  {
   "cell_type": "code",
   "execution_count": 6,
   "metadata": {},
   "outputs": [],
   "source": [
    "zeta = KnoxLongZeta('./carsus/data/knox_long_recombination_zeta.dat')"
   ]
  },
  {
   "cell_type": "code",
   "execution_count": 7,
   "metadata": {},
   "outputs": [],
   "source": [
    "zeta.to_hdf(output_file)"
   ]
  },
  {
   "cell_type": "markdown",
   "metadata": {},
   "source": [
    "## Levels, lines and macro atom data\n",
    "\n",
    "Create a `gfall_reader` instance."
   ]
  },
  {
   "cell_type": "code",
   "execution_count": 8,
   "metadata": {},
   "outputs": [
    {
     "name": "stdout",
     "output_type": "stream",
     "text": [
      "[\u001b[1mcarsus.io.kurucz.gfall\u001b[0m][\u001b[1;33mWARNING\u001b[0m]  A specific combination to identify unique levels from the gfall data has not been given. Defaulting to [\"energy\", \"j\"]. (\u001b[1mgfall.py\u001b[0m:68)\n"
     ]
    }
   ],
   "source": [
    "gfall_reader = GFALLReader('gfall.dat')"
   ]
  },
  {
   "cell_type": "markdown",
   "metadata": {},
   "source": [
    "Then create a `TARDISAtomData` object passing the `gfall_reader`, `ionization_energies` and the selected ions:"
   ]
  },
  {
   "cell_type": "code",
   "execution_count": 9,
   "metadata": {
    "scrolled": true
   },
   "outputs": [
    {
     "name": "stdout",
     "output_type": "stream",
     "text": [
      "[\u001b[1mcarsus.io.kurucz.gfall\u001b[0m][\u001b[1;37mINFO\u001b[0m   ]  Parsing GFALL gfall.dat (\u001b[1mgfall.py\u001b[0m:116)\n",
      "[\u001b[1mcarsus.io.kurucz.gfall\u001b[0m][\u001b[1;37mINFO\u001b[0m   ]  Extracting line data: atomic_number, ion_charge, energy_lower, j_lower, energy_upper, j_upper, wavelength, loggf (\u001b[1mgfall.py\u001b[0m:292)\n"
     ]
    }
   ],
   "source": [
    "atom_data = TARDISAtomData(gfall_reader, ionization_energies, ions='H-Zn')"
   ]
  },
  {
   "cell_type": "markdown",
   "metadata": {},
   "source": [
    "Same syntax to pick ions explained above apply here.\n",
    "\n",
    "Finally, dump the `atom_data` object attributes to the HDF5 file."
   ]
  },
  {
   "cell_type": "code",
   "execution_count": 10,
   "metadata": {},
   "outputs": [
    {
     "name": "stdout",
     "output_type": "stream",
     "text": [
      "Signing AtomData: \n",
      "MD5: 89126e461f192f89bba1c8892df10043\n",
      "UUID1: ca2b8404dfe811e983f2c83dd46c2c53\n"
     ]
    }
   ],
   "source": [
    "atom_data.to_hdf(output_file)"
   ]
  }
 ],
 "metadata": {
  "kernelspec": {
   "display_name": "Python 3",
   "language": "python",
   "name": "python3"
  },
  "language_info": {
   "codemirror_mode": {
    "name": "ipython",
    "version": 3
   },
   "file_extension": ".py",
   "mimetype": "text/x-python",
   "name": "python",
   "nbconvert_exporter": "python",
   "pygments_lexer": "ipython3",
   "version": "3.6.7"
  },
  "widgets": {
   "application/vnd.jupyter.widget-state+json": {
    "state": {},
    "version_major": 2,
    "version_minor": 0
   }
  }
 },
 "nbformat": 4,
 "nbformat_minor": 2
}
