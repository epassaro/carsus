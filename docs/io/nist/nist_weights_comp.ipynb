{
 "cells": [
  {
   "cell_type": "code",
   "execution_count": 1,
   "metadata": {
    "nbsphinx": "hidden"
   },
   "outputs": [],
   "source": [
    "# Hidden cell (check metadata)\n",
    "import warnings\n",
    "warnings.simplefilter('ignore')"
   ]
  },
  {
   "cell_type": "markdown",
   "metadata": {},
   "source": [
    "# NIST Atomic Weights and Isotopic Compositions\n",
    "\n",
    "This [database](http://www.nist.gov/pml/data/comp.cfm) provides  atomic weights for elements 1 through 118 and isotopic compositions (abundances). Look [here](http://nist.gov/pml/data/comp-notes.cfm#comp) for the detailed description."
   ]
  },
  {
   "cell_type": "markdown",
   "metadata": {},
   "source": [
    "Initialize a database. In this document we'll be using a memory database as an example."
   ]
  },
  {
   "cell_type": "code",
   "execution_count": 2,
   "metadata": {},
   "outputs": [
    {
     "name": "stdout",
     "output_type": "stream",
     "text": [
      "Initializing the database at sqlite://\n",
      "Ingesting basic atomic data\n"
     ]
    }
   ],
   "source": [
    "from carsus import init_db\n",
    "\n",
    "session = init_db(\"sqlite://\")\n",
    "session.commit()"
   ]
  },
  {
   "cell_type": "markdown",
   "metadata": {},
   "source": [
    " Create an ingester."
   ]
  },
  {
   "cell_type": "code",
   "execution_count": 3,
   "metadata": {},
   "outputs": [],
   "source": [
    "from carsus.io.nist import NISTWeightsCompIngester\n",
    "\n",
    "ingester = NISTWeightsCompIngester(session)"
   ]
  },
  {
   "cell_type": "markdown",
   "metadata": {},
   "source": [
    "Use `download()` to download the data from the source. With the default arguments, only the data for the most common isotopes will be downloaded."
   ]
  },
  {
   "cell_type": "code",
   "execution_count": 4,
   "metadata": {},
   "outputs": [
    {
     "name": "stdout",
     "output_type": "stream",
     "text": [
      "Downloading data from the NIST Atomic Weights and Isotopic Compositions database.\n"
     ]
    }
   ],
   "source": [
    "ingester.download()"
   ]
  },
  {
   "cell_type": "markdown",
   "metadata": {},
   "source": [
    "Use `ingest()` to persist the data into the database. Don't forget to commit the session!"
   ]
  },
  {
   "cell_type": "code",
   "execution_count": 5,
   "metadata": {},
   "outputs": [
    {
     "name": "stdout",
     "output_type": "stream",
     "text": [
      "Ingesting atomic weights from nist\n"
     ]
    }
   ],
   "source": [
    "ingester.ingest(session)\n",
    "session.commit()"
   ]
  },
  {
   "cell_type": "markdown",
   "metadata": {},
   "source": [
    "Now you have the data in your database. Currently only atomic weights are supported in `carsus`. To get them you can use this query:"
   ]
  },
  {
   "cell_type": "code",
   "execution_count": 6,
   "metadata": {},
   "outputs": [
    {
     "name": "stdout",
     "output_type": "stream",
     "text": [
      "symbol: H, atomic number: 1, weight: 1.673781838844e-27 kg\n",
      "symbol: H, atomic number: 1, weight: 6.64647688258208e-27 kg\n",
      "symbol: H, atomic number: 1, weight: 1.1569805761199998e-26 kg\n",
      "symbol: H, atomic number: 1, weight: 1.4965081873178222e-26 kg\n",
      "symbol: H, atomic number: 1, weight: 1.7956238909039998e-26 kg\n"
     ]
    }
   ],
   "source": [
    "from carsus.model import Atom, AtomWeight\n",
    "from astropy import units as u\n",
    "\n",
    "q = session.query(Atom, AtomWeight)\n",
    "\n",
    "for atom, weight in q[:5]:\n",
    "    print(\"symbol: {}, atomic number: {}, weight: {}\".format(atom.symbol, atom.atomic_number, weight.quantity.to(u.kg)))"
   ]
  }
 ],
 "metadata": {
  "kernelspec": {
   "display_name": "Python 3",
   "language": "python",
   "name": "python3"
  },
  "language_info": {
   "codemirror_mode": {
    "name": "ipython",
    "version": 3
   },
   "file_extension": ".py",
   "mimetype": "text/x-python",
   "name": "python",
   "nbconvert_exporter": "python",
   "pygments_lexer": "ipython3",
   "version": "3.6.7"
  }
 },
 "nbformat": 4,
 "nbformat_minor": 1
}
