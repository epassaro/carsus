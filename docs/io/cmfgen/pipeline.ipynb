{
 "cells": [
  {
   "cell_type": "markdown",
   "metadata": {},
   "source": [
    "# Converting the CMFGEN database to HDF5"
   ]
  },
  {
   "cell_type": "code",
   "execution_count": null,
   "metadata": {},
   "outputs": [],
   "source": [
    "import os\n",
    "import warnings\n",
    "warnings.simplefilter(\"ignore\")\n",
    "from carsus.io.cmfgen import (hdf_dump,\n",
    "                              CMFGENEnergyLevelsParser,\n",
    "                              CMFGENOscillatorStrengthsParser,\n",
    "                              CMFGENCollisionalDataParser,\n",
    "                              CMFGENPhotoionizationCrossSectionParser)\n",
    "\n"
   ]
  },
  {
   "cell_type": "markdown",
   "metadata": {},
   "source": [
    "Define `CMFGEN_DIR` variable in your shell configuration file."
   ]
  },
  {
   "cell_type": "code",
   "execution_count": null,
   "metadata": {},
   "outputs": [],
   "source": [
    "cmfgen_dir = os.getenv('CMFGEN_DIR')\n",
    "chunk_size = 10"
   ]
  },
  {
   "cell_type": "markdown",
   "metadata": {},
   "source": [
    "Choose the file patterns to match."
   ]
  },
  {
   "cell_type": "code",
   "execution_count": null,
   "metadata": {},
   "outputs": [],
   "source": [
    "osc_patterns = ['osc', 'OSC', 'Osc']\n",
    "#ignore_patterns = ['ERROR_CHK']"
   ]
  },
  {
   "cell_type": "markdown",
   "metadata": {},
   "source": [
    "Call the `h5dump` function passing the `cmfgen_dir`, `patterns`, `parser`. \n",
    "\n",
    "`chunk_size` and `ignore_patterns` are optional parameters."
   ]
  },
  {
   "cell_type": "code",
   "execution_count": null,
   "metadata": {},
   "outputs": [],
   "source": [
    "hdf_dump(cmfgen_dir, osc_patterns, CMFGENEnergyLevelsParser(), chunk_size)"
   ]
  },
  {
   "cell_type": "markdown",
   "metadata": {},
   "source": [
    "Parsing fails for `atomic/FE/III/7feb05/ERROR_CHK_FOR_FeIII_OSC` (and it's ok). \n",
    "\n",
    "Problematic files should appear in some [list of known errors]()."
   ]
  },
  {
   "cell_type": "markdown",
   "metadata": {},
   "source": [
    "## Oscillator strengths"
   ]
  },
  {
   "cell_type": "code",
   "execution_count": null,
   "metadata": {},
   "outputs": [],
   "source": [
    "#ignore_patterns = ['ERROR_CHK', 'hmi_osc']  # hmi_osc file doesn't have an oscillator strengths table"
   ]
  },
  {
   "cell_type": "code",
   "execution_count": null,
   "metadata": {
    "scrolled": false
   },
   "outputs": [],
   "source": [
    "hdf_dump(cmfgen_dir, osc_patterns, CMFGENOscillatorStrengthsParser(), chunk_size)"
   ]
  },
  {
   "cell_type": "markdown",
   "metadata": {},
   "source": [
    "## Collisional strengths"
   ]
  },
  {
   "cell_type": "code",
   "execution_count": null,
   "metadata": {},
   "outputs": [],
   "source": [
    "col_patterns = ['col', 'COL', 'Col']\n",
    "#ignore_patterns = ['/SCAN/III/3dec12/col_guess']  # This file is empty and have a '!' between the columns"
   ]
  },
  {
   "cell_type": "code",
   "execution_count": null,
   "metadata": {
    "scrolled": false
   },
   "outputs": [],
   "source": [
    "hdf_dump(cmfgen_dir, col_patterns, CMFGENCollisionalDataParser(), chunk_size)"
   ]
  },
  {
   "cell_type": "markdown",
   "metadata": {},
   "source": [
    "## Photoionization cross-sections (very slow!)"
   ]
  },
  {
   "cell_type": "code",
   "execution_count": null,
   "metadata": {},
   "outputs": [],
   "source": [
    "pho_patterns = ['pho', 'PHO', 'Pho']\n",
    "#ignore_patterns = ['_summary'] "
   ]
  },
  {
   "cell_type": "code",
   "execution_count": null,
   "metadata": {
    "scrolled": false
   },
   "outputs": [],
   "source": [
    "hdf_dump(cmfgen_dir, pho_patterns, CMFGENPhotoionizationCrossSectionParser(), chunk_size)"
   ]
  }
 ],
 "metadata": {
  "kernelspec": {
   "display_name": "Python 3",
   "language": "python",
   "name": "python3"
  },
  "language_info": {
   "codemirror_mode": {
    "name": "ipython",
    "version": 3
   },
   "file_extension": ".py",
   "mimetype": "text/x-python",
   "name": "python",
   "nbconvert_exporter": "python",
   "pygments_lexer": "ipython3",
   "version": "3.6.7"
  }
 },
 "nbformat": 4,
 "nbformat_minor": 2
}
