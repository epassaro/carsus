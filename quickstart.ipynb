{
 "cells": [
  {
   "cell_type": "markdown",
   "metadata": {},
   "source": [
    "# Quickstart for Carsus\n",
    "\n",
    "In this guide you will learn how to create an atomic file suitable for [TARDIS](https://github.com/tardis-sn/tardis)."
   ]
  },
  {
   "cell_type": "markdown",
   "metadata": {},
   "source": [
    "## Get familiar with Carsus notation\n",
    "\n",
    "The first thing you should learn about Carsus is its notation: \n",
    "\n",
    "- **Carsus uses '0' for neutral elements.** `Si 0`  is equivalent to $\\text{Si I}$, `Si 1` to $\\text{Si II}$, etc.\n",
    "\n",
    "- **Use a dash to grab intervals of consectutive elements or species.** `H-He` selects  $\\text{H I}$ and $\\text{H II}$ plus $\\text{He I}$,  $\\text{He II}$ and  $\\text{He III}$, while `C 0-2` selects  $\\text{C I}$,  $\\text{C II}$ and $\\text{C III}$. \n",
    "\n",
    "- **Use a comma to grab non-consecutive species.** `Si 0, 2` selects $\\text{Si I}$ and $\\text{Si III}$.\n",
    "  \n",
    "- **Use a semicolon to grab non-consecutive elements.** `H; Li` selects  $\\text{H I}$ and $\\text{H II}$ plus $\\text{Li I}$,  $\\text{Li II}$, $\\text{Li III}$ and $\\text{Li IV}$.\n",
    "\n",
    "- **Finally, mix all the above syntax as needed.** For example, `H; C-Si; Fe 1,3`."
   ]
  },
  {
   "cell_type": "markdown",
   "metadata": {},
   "source": [
    "## Initialization and imports"
   ]
  },
  {
   "cell_type": "code",
   "execution_count": 1,
   "metadata": {},
   "outputs": [
    {
     "name": "stdout",
     "output_type": "stream",
     "text": [
      " ChiantiPy version 0.8.4 \n",
      " found PyQt5 widgets\n",
      " using PyQt5 widgets\n"
     ]
    }
   ],
   "source": [
    "from carsus.io.nist import NISTWeightsComp, NISTIonizationEnergies\n",
    "from carsus.io.kurucz import GFALLReader\n",
    "from carsus.io.zeta import KnoxLongZeta\n",
    "from carsus.io.chianti_ import ChiantiReader\n",
    "from carsus.io.output import TARDISAtomData"
   ]
  },
  {
   "cell_type": "markdown",
   "metadata": {},
   "source": [
    "## Atomic weights and ionization energies\n",
    "\n",
    "Get atomic weights and ionization energies from NIST."
   ]
  },
  {
   "cell_type": "code",
   "execution_count": 2,
   "metadata": {},
   "outputs": [
    {
     "name": "stdout",
     "output_type": "stream",
     "text": [
      "[\u001b[1mcarsus.io.nist.weightscomp\u001b[0m][\u001b[1;37mINFO\u001b[0m] - Downloading data from the NIST Atomic Weights and Isotopic Compositions Database. (\u001b[1mweightscomp.py\u001b[0m:49)\n"
     ]
    }
   ],
   "source": [
    "atomic_weights = NISTWeightsComp()"
   ]
  },
  {
   "cell_type": "code",
   "execution_count": 3,
   "metadata": {},
   "outputs": [
    {
     "name": "stdout",
     "output_type": "stream",
     "text": [
      "[\u001b[1m carsus.io.nist.ionization\u001b[0m][\u001b[1;37mINFO\u001b[0m] - Downloading ionization energies from the NIST Atomic Spectra Database. (\u001b[1mionization.py\u001b[0m:65)\n"
     ]
    }
   ],
   "source": [
    "ionization_energies = NISTIonizationEnergies('H-Zn')"
   ]
  },
  {
   "cell_type": "markdown",
   "metadata": {},
   "source": [
    "## Levels, lines and collisions\n",
    "\n",
    "Currently, Carsus supports two sources of energy levels and transition lines: the Robert Kurucz's line list (GFALL) and the Chianti Database.\n",
    "\n",
    "### GFALL\n",
    "\n",
    "\n",
    "<div class=\"alert alert-warning\">\n",
    "\n",
    "**NOTE:** Creating a `GFALLReader` instance is **required**.\n",
    "\n",
    "</div>"
   ]
  },
  {
   "cell_type": "code",
   "execution_count": 4,
   "metadata": {},
   "outputs": [
    {
     "name": "stdout",
     "output_type": "stream",
     "text": [
      "[\u001b[1m    carsus.io.kurucz.gfall\u001b[0m][\u001b[1;33mWARNING\u001b[0m] - A specific combination to identify unique levels from GFALL data has not been given. Defaulting to [\"energy\", \"j\"]. (\u001b[1mgfall.py\u001b[0m:86)\n"
     ]
    }
   ],
   "source": [
    "gfall_reader = GFALLReader('H-Zn')"
   ]
  },
  {
   "cell_type": "markdown",
   "metadata": {},
   "source": [
    "### CHIANTI\n",
    "\n",
    "The Chianti Database is also a source of collisional strengths."
   ]
  },
  {
   "cell_type": "code",
   "execution_count": 5,
   "metadata": {},
   "outputs": [],
   "source": [
    "chianti_reader = ChiantiReader('H-He', collisions=True, priority=20)"
   ]
  },
  {
   "cell_type": "markdown",
   "metadata": {},
   "source": [
    "By default `priority` parameter is set to `10`. Increase this value if you want to keep Chianti levels and lines over GFALL."
   ]
  },
  {
   "cell_type": "markdown",
   "metadata": {},
   "source": [
    "## Zeta data\n",
    "\n",
    "Adding Knox Long's ground state recombinations fractions ($\\zeta$) is straightforward."
   ]
  },
  {
   "cell_type": "code",
   "execution_count": 6,
   "metadata": {},
   "outputs": [],
   "source": [
    "zeta_data = KnoxLongZeta()"
   ]
  },
  {
   "cell_type": "markdown",
   "metadata": {},
   "source": [
    "## Save to HDF5"
   ]
  },
  {
   "cell_type": "code",
   "execution_count": 7,
   "metadata": {
    "scrolled": true
   },
   "outputs": [
    {
     "name": "stdout",
     "output_type": "stream",
     "text": [
      "[\u001b[1m    carsus.io.kurucz.gfall\u001b[0m][\u001b[1;37mINFO\u001b[0m] - Parsing GFALL: http://kurucz.harvard.edu/linelists/gfall/gfall.dat (\u001b[1mgfall.py\u001b[0m:139)\n"
     ]
    },
    {
     "name": "stdout",
     "output_type": "stream",
     "text": [
      "[\u001b[1m     carsus.io.output.base\u001b[0m][\u001b[1;37mINFO\u001b[0m] - Ingesting levels from Chianti. (\u001b[1mbase.py\u001b[0m:255)\n"
     ]
    },
    {
     "name": "stdout",
     "output_type": "stream",
     "text": [
      "[\u001b[1m     carsus.io.output.base\u001b[0m][\u001b[1;37mINFO\u001b[0m] - Ingesting lines from GFALL. (\u001b[1mbase.py\u001b[0m:327)\n"
     ]
    },
    {
     "name": "stdout",
     "output_type": "stream",
     "text": [
      "[\u001b[1m    carsus.io.kurucz.gfall\u001b[0m][\u001b[1;37mINFO\u001b[0m] - Extracting line data: atomic_number, ion_charge, energy_lower, j_lower, energy_upper, j_upper, wavelength, loggf. (\u001b[1mgfall.py\u001b[0m:343)\n"
     ]
    },
    {
     "name": "stdout",
     "output_type": "stream",
     "text": [
      "[\u001b[1m               py.warnings\u001b[0m][\u001b[1;33mWARNING\u001b[0m] - /home/epassaro/Desktop/tardis-sn/carsus/carsus/io/output/base.py:121: PerformanceWarning: indexing past lexsort depth may impact performance.\n",
      "  ['atomic_number', 'ion_number']).loc[ion]\n",
      " (\u001b[1mwarnings.py\u001b[0m:99)\n"
     ]
    },
    {
     "name": "stdout",
     "output_type": "stream",
     "text": [
      "[\u001b[1m     carsus.io.output.base\u001b[0m][\u001b[1;37mINFO\u001b[0m] - Ingesting lines from Chianti. (\u001b[1mbase.py\u001b[0m:352)\n"
     ]
    },
    {
     "name": "stdout",
     "output_type": "stream",
     "text": [
      "[\u001b[1m               py.warnings\u001b[0m][\u001b[1;33mWARNING\u001b[0m] - /home/epassaro/Desktop/tardis-sn/carsus/carsus/io/output/base.py:356: SettingWithCopyWarning: \n",
      "A value is trying to be set on a copy of a slice from a DataFrame.\n",
      "Try using .loc[row_indexer,col_indexer] = value instead\n",
      "\n",
      "See the caveats in the documentation: https://pandas.pydata.org/pandas-docs/stable/user_guide/indexing.html#returning-a-view-versus-a-copy\n",
      "  df['line_id'] = range(start, len(df) + start)\n",
      " (\u001b[1mwarnings.py\u001b[0m:99)\n"
     ]
    },
    {
     "name": "stdout",
     "output_type": "stream",
     "text": [
      "[\u001b[1m     carsus.io.output.base\u001b[0m][\u001b[1;37mINFO\u001b[0m] - Ingesting collisions from Chianti (\u001b[1mbase.py\u001b[0m:499)\n"
     ]
    }
   ],
   "source": [
    "atom_data = TARDISAtomData(atomic_weights,\n",
    "                           ionization_energies,\n",
    "                           gfall_reader,\n",
    "                           zeta_data,\n",
    "                           chianti_reader)"
   ]
  },
  {
   "cell_type": "markdown",
   "metadata": {},
   "source": [
    "Finally, dump the `atom_data` attributes to an HDF5 file."
   ]
  },
  {
   "cell_type": "code",
   "execution_count": 8,
   "metadata": {},
   "outputs": [
    {
     "name": "stdout",
     "output_type": "stream",
     "text": [
      "[\u001b[1m     carsus.io.output.base\u001b[0m][\u001b[1;37mINFO\u001b[0m] - Signing TARDISAtomData. (\u001b[1mbase.py\u001b[0m:840)\n"
     ]
    },
    {
     "name": "stdout",
     "output_type": "stream",
     "text": [
      "[\u001b[1m     carsus.io.output.base\u001b[0m][\u001b[1;37mINFO\u001b[0m] - MD5: 6768f2d24d992a326ea0b8da57296bc5 (\u001b[1mbase.py\u001b[0m:841)\n"
     ]
    },
    {
     "name": "stdout",
     "output_type": "stream",
     "text": [
      "[\u001b[1m     carsus.io.output.base\u001b[0m][\u001b[1;37mINFO\u001b[0m] - UUID1: 80e527ace25b11eaaa6bc83dd46c2c53 (\u001b[1mbase.py\u001b[0m:842)\n"
     ]
    }
   ],
   "source": [
    "atom_data.to_hdf('kurucz_cd23_chianti_H-He.h5')"
   ]
  },
  {
   "cell_type": "markdown",
   "metadata": {},
   "source": [
    "## Reproducibility and metadata\n",
    "\n",
    "Carsus stores metadata inside the atomic files to ensure reproducibility. This metadata includes one checksum per `DataFrame` stored, versions of every dataset, and relevant package versions. "
   ]
  },
  {
   "cell_type": "code",
   "execution_count": 9,
   "metadata": {},
   "outputs": [],
   "source": [
    "import pandas as pd"
   ]
  },
  {
   "cell_type": "code",
   "execution_count": 10,
   "metadata": {},
   "outputs": [
    {
     "data": {
      "text/html": [
       "<div>\n",
       "<style scoped>\n",
       "    .dataframe tbody tr th:only-of-type {\n",
       "        vertical-align: middle;\n",
       "    }\n",
       "\n",
       "    .dataframe tbody tr th {\n",
       "        vertical-align: top;\n",
       "    }\n",
       "\n",
       "    .dataframe thead th {\n",
       "        text-align: right;\n",
       "    }\n",
       "</style>\n",
       "<table border=\"1\" class=\"dataframe\">\n",
       "  <thead>\n",
       "    <tr style=\"text-align: right;\">\n",
       "      <th></th>\n",
       "      <th></th>\n",
       "      <th>value</th>\n",
       "    </tr>\n",
       "    <tr>\n",
       "      <th>field</th>\n",
       "      <th>key</th>\n",
       "      <th></th>\n",
       "    </tr>\n",
       "  </thead>\n",
       "  <tbody>\n",
       "    <tr>\n",
       "      <th rowspan=\"9\" valign=\"top\">md5sum</th>\n",
       "      <th>atom_data</th>\n",
       "      <td>634785f05c4868f929c8</td>\n",
       "    </tr>\n",
       "    <tr>\n",
       "      <th>collision_data</th>\n",
       "      <td>3178077be6f242541c21</td>\n",
       "    </tr>\n",
       "    <tr>\n",
       "      <th>collision_data_temperatures</th>\n",
       "      <td>1b7075429ee24b944ed5</td>\n",
       "    </tr>\n",
       "    <tr>\n",
       "      <th>ionization_data</th>\n",
       "      <td>160807a3951b9bdfddf9</td>\n",
       "    </tr>\n",
       "    <tr>\n",
       "      <th>levels</th>\n",
       "      <td>92f24fe12437a83c5b4b</td>\n",
       "    </tr>\n",
       "    <tr>\n",
       "      <th>lines</th>\n",
       "      <td>5c076a2fe6cb9f590542</td>\n",
       "    </tr>\n",
       "    <tr>\n",
       "      <th>macro_atom_data</th>\n",
       "      <td>58a6eee3f36a8ba4ed69</td>\n",
       "    </tr>\n",
       "    <tr>\n",
       "      <th>macro_atom_references</th>\n",
       "      <td>1138f02c1725cf9f2164</td>\n",
       "    </tr>\n",
       "    <tr>\n",
       "      <th>zeta_data</th>\n",
       "      <td>f2496cec5c219dfb6d63</td>\n",
       "    </tr>\n",
       "    <tr>\n",
       "      <th rowspan=\"4\" valign=\"top\">datasets</th>\n",
       "      <th>nist_weights</th>\n",
       "      <td>4.1</td>\n",
       "    </tr>\n",
       "    <tr>\n",
       "      <th>nist_spectra</th>\n",
       "      <td>5.7.1</td>\n",
       "    </tr>\n",
       "    <tr>\n",
       "      <th>gfall.dat</th>\n",
       "      <td>2704fbda0b8cba61bb70</td>\n",
       "    </tr>\n",
       "    <tr>\n",
       "      <th>chianti_data</th>\n",
       "      <td>9.0.1</td>\n",
       "    </tr>\n",
       "    <tr>\n",
       "      <th rowspan=\"8\" valign=\"top\">software</th>\n",
       "      <th>python</th>\n",
       "      <td>3.6.11</td>\n",
       "    </tr>\n",
       "    <tr>\n",
       "      <th>carsus</th>\n",
       "      <td>0.1.dev650</td>\n",
       "    </tr>\n",
       "    <tr>\n",
       "      <th>astropy</th>\n",
       "      <td>3.2.3</td>\n",
       "    </tr>\n",
       "    <tr>\n",
       "      <th>numpy</th>\n",
       "      <td>1.15.4</td>\n",
       "    </tr>\n",
       "    <tr>\n",
       "      <th>pandas</th>\n",
       "      <td>1.0.5</td>\n",
       "    </tr>\n",
       "    <tr>\n",
       "      <th>pyarrow</th>\n",
       "      <td>0.14.1</td>\n",
       "    </tr>\n",
       "    <tr>\n",
       "      <th>tables</th>\n",
       "      <td>3.6.1</td>\n",
       "    </tr>\n",
       "    <tr>\n",
       "      <th>ChiantiPy</th>\n",
       "      <td>0.8.4</td>\n",
       "    </tr>\n",
       "  </tbody>\n",
       "</table>\n",
       "</div>"
      ],
      "text/plain": [
       "                                                     value\n",
       "field    key                                              \n",
       "md5sum   atom_data                    634785f05c4868f929c8\n",
       "         collision_data               3178077be6f242541c21\n",
       "         collision_data_temperatures  1b7075429ee24b944ed5\n",
       "         ionization_data              160807a3951b9bdfddf9\n",
       "         levels                       92f24fe12437a83c5b4b\n",
       "         lines                        5c076a2fe6cb9f590542\n",
       "         macro_atom_data              58a6eee3f36a8ba4ed69\n",
       "         macro_atom_references        1138f02c1725cf9f2164\n",
       "         zeta_data                    f2496cec5c219dfb6d63\n",
       "datasets nist_weights                                  4.1\n",
       "         nist_spectra                                5.7.1\n",
       "         gfall.dat                    2704fbda0b8cba61bb70\n",
       "         chianti_data                                9.0.1\n",
       "software python                                     3.6.11\n",
       "         carsus                                 0.1.dev650\n",
       "         astropy                                     3.2.3\n",
       "         numpy                                      1.15.4\n",
       "         pandas                                      1.0.5\n",
       "         pyarrow                                    0.14.1\n",
       "         tables                                      3.6.1\n",
       "         ChiantiPy                                   0.8.4"
      ]
     },
     "execution_count": 10,
     "metadata": {},
     "output_type": "execute_result"
    }
   ],
   "source": [
    "pd.read_hdf('kurucz_cd23_chianti_H-He.h5', key='meta')"
   ]
  },
  {
   "cell_type": "code",
   "execution_count": 11,
   "metadata": {
    "nbsphinx": "hidden"
   },
   "outputs": [],
   "source": [
    "# Hidden cell\n",
    "!rm kurucz_cd23_chianti_H-He.h5"
   ]
  }
 ],
 "metadata": {
  "kernelspec": {
   "display_name": "Python 3",
   "language": "python",
   "name": "python3"
  },
  "language_info": {
   "codemirror_mode": {
    "name": "ipython",
    "version": 3
   },
   "file_extension": ".py",
   "mimetype": "text/x-python",
   "name": "python",
   "nbconvert_exporter": "python",
   "pygments_lexer": "ipython3",
   "version": "3.6.11"
  },
  "widgets": {
   "application/vnd.jupyter.widget-state+json": {
    "state": {},
    "version_major": 2,
    "version_minor": 0
   }
  }
 },
 "nbformat": 4,
 "nbformat_minor": 2
}
